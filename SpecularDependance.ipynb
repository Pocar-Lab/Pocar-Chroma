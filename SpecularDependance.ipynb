{
 "cells": [
  {
   "cell_type": "markdown",
   "metadata": {},
   "source": [
    "# PTE Dependence on Reflector Specular Ratio\n",
    "Authors: Luc Barrett, Loick Marion\n",
    "\n",
    "In the calculation of specular vs diffuse ratios, its assumed it has a linear effect on PTE value (first order approximation). To investigate if this is a good assumption, this notebook will sweep specular ratios and calculate the PTE, and plot the result so it can be evaluated if a linear approximation is appropriate. If not more complex optimization methods may be needed to determine these ratios."
   ]
  },
  {
   "cell_type": "code",
   "execution_count": null,
   "metadata": {},
   "outputs": [],
   "source": [
    "from analysis.geometry_manager import geometry_manager\n",
    "from analysis.run_manager import run_manager\n",
    "import numpy as np\n",
    "import matplotlib.pyplot as plt"
   ]
  },
  {
   "cell_type": "markdown",
   "metadata": {},
   "source": [
    "## Metadata and Info"
   ]
  },
  {
   "cell_type": "code",
   "execution_count": null,
   "metadata": {},
   "outputs": [],
   "source": [
    "experiment_name = \"SiliconeFlippedSourceUpper\"\n",
    "num_particles = 1_000_000\n",
    "seed = 1042\n",
    "run_id = 1\n",
    "visualize = True\n",
    "plots = []\n",
    "\n",
    "exclusion = []\n",
    "label = \"silicon-upper-8reflector\"\n",
    "\n",
    "exclusions = [f\"reflector{i}\" for i in exclusion]  # map to name"
   ]
  },
  {
   "cell_type": "markdown",
   "metadata": {},
   "source": [
    "## Run Simulations"
   ]
  },
  {
   "cell_type": "code",
   "execution_count": null,
   "metadata": {},
   "outputs": [],
   "source": [
    "ptes = []\n",
    "ptes_err = []\n",
    "speculars = np.linspace(0, 1, 30)\n",
    "for specular in speculars:\n",
    "    print(f\"Experiment Name:       {experiment_name }\")\n",
    "    print(f\"Number of particles:   {str(num_particles) }\")\n",
    "    print(f\"Random seed:           {str(seed) }\")\n",
    "    print(f\"Run ID:                {str(run_id) }\")\n",
    "    print(f\"Visualize:             {str(visualize) }\")\n",
    "    print(f\"Plots:                 {plots}\")\n",
    "    print(f\"Excluded reflectors:   {exclusion}\")\n",
    "\n",
    "    gm = geometry_manager(\n",
    "        experiment_name=experiment_name,\n",
    "        run_id=run_id,\n",
    "        visualize=visualize,\n",
    "        exclude=exclusion,\n",
    "    )\n",
    "\n",
    "    # set ratios of specular vs diffuse\n",
    "    gm.surf_manager.surfaces[\"silicon\"].set(\"reflect_specular\", specular)\n",
    "    gm.surf_manager.surfaces[\"silicon\"].set(\"reflect_diffuse\", 1 - specular)\n",
    "\n",
    "    rm = run_manager(\n",
    "        geometry_manager=gm,\n",
    "        experiment_name=experiment_name,\n",
    "        random_seed=seed,\n",
    "        num_particles=num_particles,\n",
    "        run_id=run_id,\n",
    "        plots=plots,\n",
    "        write=False,\n",
    "    )\n",
    "    pte = rm.ana_man.photon_transmission_efficiency\n",
    "    ptes.append(pte)\n",
    "    ptes_err.append(rm.ana_man.pte_st_dev)\n",
    "    run_id += 1\n",
    "print(\"Done!\")"
   ]
  },
  {
   "cell_type": "code",
   "execution_count": null,
   "metadata": {},
   "outputs": [],
   "source": [
    "print(ptes)\n",
    "print(ptes_err)"
   ]
  },
  {
   "cell_type": "markdown",
   "metadata": {},
   "source": [
    "## Plot Results"
   ]
  },
  {
   "cell_type": "code",
   "execution_count": null,
   "metadata": {},
   "outputs": [],
   "source": [
    "plt.figure(figsize=(15, 10))\n",
    "plt.errorbar(speculars, ptes, ptes_err, capsize=5)\n",
    "plt.xlabel(\"Specular Fraction\")\n",
    "plt.ylabel(\"PTE\")\n",
    "plt.title(\"PTE as Function of Specular Ratio\")\n",
    "plt.grid()\n",
    "plt.show()"
   ]
  }
 ],
 "metadata": {
  "language_info": {
   "name": "python"
  }
 },
 "nbformat": 4,
 "nbformat_minor": 2
}
